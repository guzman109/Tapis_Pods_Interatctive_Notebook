{
 "cells": [
  {
   "cell_type": "code",
   "execution_count": null,
   "metadata": {},
   "outputs": [],
   "source": [
    "import json\n",
    "from time import sleep\n",
    "from tapipy.tapis import Tapis\n",
    "from cryptography.fernet import Fernet"
   ]
  },
  {
   "attachments": {},
   "cell_type": "markdown",
   "metadata": {},
   "source": [
    "# Log into Tapis"
   ]
  },
  {
   "cell_type": "code",
   "execution_count": null,
   "metadata": {},
   "outputs": [],
   "source": [
    "# Grab encryption key\n",
    "with open('SECRETS/Key.key', 'rb') as f:\n",
    "    key = f.readline()\n",
    "\n",
    "# initialize cryptographor\n",
    "crypt = Fernet(key)\n",
    "\n",
    "# Load TACC credentials\n",
    "with open('SECRETS/Tapis_Login.json', 'r') as f:\n",
    "    tapis_login = json.load(f)\n",
    "\n",
    "# Login into tapis and instantiate Tapis\n",
    "t = Tapis(base_url='https://icicle.tapis.io', username=tapis_login['username'], password=crypt.decrypt(tapis_login['password'].encode()).decode())\n",
    "t.get_tokens()"
   ]
  },
  {
   "attachments": {},
   "cell_type": "markdown",
   "metadata": {},
   "source": [
    "# Backend Logs"
   ]
  },
  {
   "cell_type": "code",
   "execution_count": null,
   "metadata": {},
   "outputs": [],
   "source": [
    "t.pods.get_pod_logs(pod_id='vaapibackend')"
   ]
  },
  {
   "attachments": {},
   "cell_type": "markdown",
   "metadata": {},
   "source": [
    "# Frontend Logs"
   ]
  },
  {
   "cell_type": "code",
   "execution_count": null,
   "metadata": {},
   "outputs": [],
   "source": [
    "t.pods.get_pod_logs(pod_id='vaapifrontenddev')"
   ]
  },
  {
   "attachments": {},
   "cell_type": "markdown",
   "metadata": {},
   "source": [
    "# Restart Pods"
   ]
  },
  {
   "cell_type": "code",
   "execution_count": null,
   "metadata": {},
   "outputs": [],
   "source": [
    "# t.pods.restart_pod(pod_id='vaapibackend'), t.pods.restart_pod(pod_id='vaapifrontenddev')"
   ]
  }
 ],
 "metadata": {
  "kernelspec": {
   "display_name": "pods_env",
   "language": "python",
   "name": "python3"
  },
  "language_info": {
   "codemirror_mode": {
    "name": "ipython",
    "version": 3
   },
   "file_extension": ".py",
   "mimetype": "text/x-python",
   "name": "python",
   "nbconvert_exporter": "python",
   "pygments_lexer": "ipython3",
   "version": "3.11.0"
  },
  "orig_nbformat": 4
 },
 "nbformat": 4,
 "nbformat_minor": 2
}
